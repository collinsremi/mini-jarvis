{
 "cells": [
  {
   "cell_type": "code",
   "execution_count": null,
   "id": "f3f1f7c6-cdb1-4af5-9b26-e13f7734ca52",
   "metadata": {
    "scrolled": true
   },
   "outputs": [],
   "source": [
    "!pip install -U openai-whisper"
   ]
  },
  {
   "cell_type": "code",
   "execution_count": null,
   "id": "8ca09c5c-8016-49df-a47c-40a93197ed6f",
   "metadata": {},
   "outputs": [],
   "source": [
    "!pip install datasets>=2.6.1\n",
    "!pip install librosa\n",
    "!pip install evaluate>=0.30\n",
    "!pip install jiwer\n",
    "!pip install git+https://github.com/huggingface/transformers\n",
    "!pip install gradio"
   ]
  },
  {
   "cell_type": "code",
   "execution_count": null,
   "id": "cd623bdd-0f60-4dae-bf6d-1cbc69d95447",
   "metadata": {},
   "outputs": [],
   "source": [
    "from dataclasses import dataclass\n",
    "from typing import Any, Dict, List, Union\n",
    "import torch"
   ]
  },
  {
   "cell_type": "markdown",
   "id": "373997ca-dfb2-46cc-ba16-5a37ea8811c5",
   "metadata": {},
   "source": [
    "# STEP 0: Logging in to huggingface"
   ]
  },
  {
   "cell_type": "code",
   "execution_count": null,
   "id": "fe162515-3ca7-4cd8-b4b4-4ac1f280fdce",
   "metadata": {},
   "outputs": [],
   "source": [
    "from huggingface_hub import HfApi, HfFolder"
   ]
  },
  {
   "cell_type": "code",
   "execution_count": null,
   "id": "6291fa74-09e2-4880-bef4-952b3a0e85e0",
   "metadata": {},
   "outputs": [],
   "source": [
    "token = \"\""
   ]
  },
  {
   "cell_type": "code",
   "execution_count": null,
   "id": "2fd64006-2e45-48a5-90b2-801ef5f98741",
   "metadata": {},
   "outputs": [],
   "source": [
    "api = HfApi(token = token)"
   ]
  },
  {
   "cell_type": "code",
   "execution_count": null,
   "id": "a87a9825-9d8d-4d26-830c-f1ba6fa49467",
   "metadata": {},
   "outputs": [],
   "source": [
    "folder = HfFolder()"
   ]
  },
  {
   "cell_type": "code",
   "execution_count": null,
   "id": "284f8f91-e48c-4aa7-84a7-dd0f1d330237",
   "metadata": {},
   "outputs": [],
   "source": [
    "folder.save_token(token)"
   ]
  },
  {
   "cell_type": "code",
   "execution_count": null,
   "id": "34e0c9b4-f3bc-4524-b9a4-ed0197072dcb",
   "metadata": {},
   "outputs": [],
   "source": [
    "api"
   ]
  },
  {
   "cell_type": "markdown",
   "id": "d8b0b486-dd97-4fab-84ff-26e216916d17",
   "metadata": {},
   "source": [
    "# STEP 1: Download Dataset"
   ]
  },
  {
   "cell_type": "code",
   "execution_count": null,
   "id": "39112530-19aa-4682-8296-5184b54c362a",
   "metadata": {},
   "outputs": [],
   "source": [
    "!pip uninstall datasets\n",
    "\n",
    "# !pip install datasets==2.16.0 "
   ]
  },
  {
   "cell_type": "code",
   "execution_count": null,
   "id": "f1593130-6983-4e67-877d-a616164043ef",
   "metadata": {},
   "outputs": [],
   "source": [
    "import datasets\n",
    "\n",
    "datasets.__version__"
   ]
  },
  {
   "cell_type": "code",
   "execution_count": null,
   "id": "400c2ad3-61ff-46ed-af34-5b1c4d596e1c",
   "metadata": {},
   "outputs": [],
   "source": [
    "from datasets import load_dataset, DatasetDict"
   ]
  },
  {
   "cell_type": "code",
   "execution_count": null,
   "id": "e053eea0-1493-44dc-85b4-82a974974e19",
   "metadata": {},
   "outputs": [],
   "source": [
    "common_voice = DatasetDict()"
   ]
  },
  {
   "cell_type": "code",
   "execution_count": null,
   "id": "3bd3cd49-72b1-430e-ab70-fcda3648eea5",
   "metadata": {},
   "outputs": [],
   "source": [
    "common_voice[\"Train\"] = load_dataset(\"mozilla-foundation/common_voice_11_0\", \"ja\", split = \"train+validation\", use_auth_token = True)"
   ]
  },
  {
   "cell_type": "code",
   "execution_count": null,
   "id": "676bb300-32b2-45ab-a832-4c5d2318efb8",
   "metadata": {},
   "outputs": [],
   "source": []
  }
 ],
 "metadata": {
  "kernelspec": {
   "display_name": "Python 3 (ipykernel)",
   "language": "python",
   "name": "python3"
  },
  "language_info": {
   "codemirror_mode": {
    "name": "ipython",
    "version": 3
   },
   "file_extension": ".py",
   "mimetype": "text/x-python",
   "name": "python",
   "nbconvert_exporter": "python",
   "pygments_lexer": "ipython3",
   "version": "3.13.5"
  }
 },
 "nbformat": 4,
 "nbformat_minor": 5
}
